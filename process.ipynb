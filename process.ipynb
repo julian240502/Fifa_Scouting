{
 "cells": [
  {
   "cell_type": "code",
   "execution_count": 35,
   "metadata": {},
   "outputs": [
    {
     "name": "stderr",
     "output_type": "stream",
     "text": [
      "C:\\Users\\CYTech Student\\AppData\\Local\\Temp\\ipykernel_3764\\3418129207.py:10: DtypeWarning: Columns (108) have mixed types. Specify dtype option on import or set low_memory=False.\n",
      "  df = pd.read_csv(file_path)\n"
     ]
    }
   ],
   "source": [
    "import pandas as pd\n",
    "import numpy as np\n",
    "import matplotlib.pyplot as plt\n",
    "import os\n",
    "\n",
    "base_dir = os.getcwd()\n",
    "# Chemins des sous-dossiers pour train et test\n",
    "file_path = os.path.join(base_dir,'data', 'raw', 'male_players.csv')\n",
    "\n",
    "df = pd.read_csv(file_path)\n",
    "# Colonnes à conserver\n",
    "columns_to_keep = [\n",
    "    'short_name','age','nationality_name','overall', 'club_name', 'height_cm', 'weight_kg', \n",
    "    'player_positions',  'potential', 'fifa_version',\n",
    "    'pace', 'shooting', 'passing', 'dribbling', 'defending', 'physic', 'weak_foot', 'skill_moves','league_level','league_name','value_eur'\n",
    "]\n",
    "df=df[df['player_positions']!= 'GK']\n",
    "\n",
    "# Filtrer les colonnes\n",
    "df = df[columns_to_keep]\n",
    "\n",
    "\n"
   ]
  },
  {
   "cell_type": "code",
   "execution_count": 36,
   "metadata": {},
   "outputs": [],
   "source": [
    "import pandas as pd\n",
    "\n",
    "# Vérifier les versions de FIFA disponibles pour chaque joueur\n",
    "player_fifa_counts = df.groupby(\"short_name\")[\"fifa_version\"].nunique()\n",
    "\n",
    "# Identifier les joueurs présents sur toutes les versions\n",
    "max_fifa_versions = df[\"fifa_version\"].nunique()\n",
    "players_all_versions = player_fifa_counts[player_fifa_counts == max_fifa_versions].index\n",
    "\n",
    "# Filtrer le DataFrame pour ne garder que ces joueurs\n",
    "df = df[df[\"short_name\"].isin(players_all_versions)]\n",
    "\n",
    "df= df.sort_values(by=['short_name','fifa_version'])\n"
   ]
  },
  {
   "cell_type": "code",
   "execution_count": 37,
   "metadata": {},
   "outputs": [
    {
     "name": "stdout",
     "output_type": "stream",
     "text": [
      "Fichier filtré enregistré sous : data/processed/train2.csv\n"
     ]
    }
   ],
   "source": [
    "# Enregistrer le nouveau fichier CSV\n",
    "new_file_path = \"data/processed/train2.csv\"  # Chemin de sauvegarde\n",
    "df.to_csv(new_file_path, index=False)\n",
    "\n",
    "print(f\"Fichier filtré enregistré sous : {new_file_path}\")"
   ]
  }
 ],
 "metadata": {
  "kernelspec": {
   "display_name": "venv",
   "language": "python",
   "name": "python3"
  },
  "language_info": {
   "codemirror_mode": {
    "name": "ipython",
    "version": 3
   },
   "file_extension": ".py",
   "mimetype": "text/x-python",
   "name": "python",
   "nbconvert_exporter": "python",
   "pygments_lexer": "ipython3",
   "version": "3.10.11"
  }
 },
 "nbformat": 4,
 "nbformat_minor": 2
}
